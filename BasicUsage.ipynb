{
    "cells": [
        {
            "cell_type": "markdown",
            "source": [
                "## Initialize session"
            ],
            "metadata": {}
        },
        {
            "cell_type": "code",
            "execution_count": null,
            "source": [
                "from wolframclient.evaluation import WolframLanguageSession\n",
                "from wolframclient.language import wl, wlexpr"
            ],
            "outputs": [],
            "metadata": {}
        },
        {
            "cell_type": "code",
            "execution_count": null,
            "source": [
                "session = WolframLanguageSession()"
            ],
            "outputs": [],
            "metadata": {}
        },
        {
            "cell_type": "code",
            "execution_count": null,
            "source": [
                "session.evaluate(wlexpr(\"{$InstallationDirectory, $Version}\"))"
            ],
            "outputs": [],
            "metadata": {}
        },
        {
            "cell_type": "code",
            "execution_count": null,
            "source": [
                "session.start()"
            ],
            "outputs": [],
            "metadata": {}
        },
        {
            "cell_type": "code",
            "execution_count": null,
            "source": [
                "session.started"
            ],
            "outputs": [],
            "metadata": {}
        },
        {
            "cell_type": "markdown",
            "source": [
                "## Generating Wolfram Language™ code\n"
            ],
            "metadata": {}
        },
        {
            "cell_type": "markdown",
            "source": [
                "### Construct Wolfram Langauge input using Python syntax"
            ],
            "metadata": {}
        },
        {
            "cell_type": "code",
            "execution_count": null,
            "source": [
                "from wolframclient.language import wl, wlexpr\n",
                "x = wl.Select(wl.Range(10), wl.PrimeQ)\n",
                "y = wl.Reverse(wl.Range(10))\n",
                "z = wl.Now\n",
                "print(x)\n",
                "print(y)"
            ],
            "outputs": [],
            "metadata": {}
        },
        {
            "cell_type": "markdown",
            "source": [
                "The syntax of WL functions must be modified to work with python. For example:\n",
                "\n",
                "Function[arg1, arg2, Option->OptionValue] becomes wl.Function(arg1, arg2, Option=OptionValue)."
            ],
            "metadata": {}
        },
        {
            "cell_type": "markdown",
            "source": [
                "### Construct Wolfram Langauge expressions using wlexpr strings"
            ],
            "metadata": {}
        },
        {
            "cell_type": "code",
            "execution_count": null,
            "source": [
                "wl.Map(wlexpr('#^2&'), [1,2,3])"
            ],
            "outputs": [],
            "metadata": {}
        },
        {
            "cell_type": "markdown",
            "source": [
                "## Evaluating Wolfram Language code\n",
                "\n",
                "Wolfram expressions generated inside Python will not evaluate unless called explicitly. One way to achieve this is with local kernel evaluation, which utilises the wolfram kernel licences contained within a Wolfram product installation such as Mathematica™. This is achieved with **session.evaluate** imported from the **WolframLanguageSession** library:"
            ],
            "metadata": {}
        },
        {
            "cell_type": "code",
            "execution_count": null,
            "source": [
                "r = wl.Total(wl.Table(wl.i,[wl.i,20,30]))"
            ],
            "outputs": [],
            "metadata": {}
        },
        {
            "cell_type": "code",
            "execution_count": null,
            "source": [
                "session.evaluate(r)"
            ],
            "outputs": [],
            "metadata": {}
        },
        {
            "cell_type": "code",
            "execution_count": null,
            "source": [
                "session.evaluate(wl.Integrate(wl.x, wl.x))"
            ],
            "outputs": [],
            "metadata": {}
        },
        {
            "cell_type": "markdown",
            "source": [
                "**Data Conversion**\n",
                "\n",
                "As shown above, some simple data types (lists, integers) are automatically converted into Python formats. Others, such as DateObject and Graphic, will remain as WL expression types and will need to be serialised (see section 2), manually converted or exported/rendered:"
            ],
            "metadata": {}
        },
        {
            "cell_type": "code",
            "execution_count": 40,
            "source": [
                "data = [.3, 2, 4, 5, 5.5]\n",
                "graphic = wl.BarChart(data, ChartLabels=[\"a\", \"b\", \"c\", \"d\", \"e\"])\n",
                "path = \"/tmp/barchart1.png\"\n",
                "png_export = wl.Export(path, graphic, \"PNG\")\n",
                "session.evaluate(png_export)"
            ],
            "outputs": [
                {
                    "output_type": "execute_result",
                    "data": {
                        "text/plain": [
                            "'/tmp/barchart1.png'"
                        ]
                    },
                    "metadata": {},
                    "execution_count": 40
                }
            ],
            "metadata": {}
        },
        {
            "cell_type": "code",
            "execution_count": 41,
            "source": [
                "from PIL import Image\n",
                "barchartImage = Image.open('/tmp/barchart1.png')\n",
                "barchartImage"
            ],
            "outputs": [
                {
                    "output_type": "execute_result",
                    "data": {
                        "text/plain": [
                            "<PIL.PngImagePlugin.PngImageFile image mode=RGB size=480x309 at 0x7FEECF2644F0>"
                        ],
                        "image/png": "[encoded data removed]"
                    },
                    "metadata": {},
                    "execution_count": 41
                }
            ],
            "metadata": {}
        },
        {
            "cell_type": "code",
            "execution_count": 42,
            "source": [
                "png_export2 = wl.Export(\"/tmp/barchart2.png\", wl.GradientFilter(barchartImage, 3), \"PNG\")\n",
                "session.evaluate(png_export2)\n",
                "Image.open('/tmp/barchart2.png')"
            ],
            "outputs": [
                {
                    "output_type": "execute_result",
                    "data": {
                        "text/plain": [
                            "<PIL.PngImagePlugin.PngImageFile image mode=I size=480x309 at 0x7FEEB2A748E0>"
                        ],
                        "image/png": "[encoded data removed]"
                    },
                    "metadata": {},
                    "execution_count": 42
                }
            ],
            "metadata": {}
        },
        {
            "cell_type": "code",
            "execution_count": null,
            "source": [],
            "outputs": [],
            "metadata": {}
        }
    ],
    "metadata": {
        "orig_nbformat": 4,
        "language_info": {
            "name": "python",
            "version": "3.8.11",
            "mimetype": "text/x-python",
            "codemirror_mode": {
                "name": "ipython",
                "version": 3
            },
            "pygments_lexer": "ipython3",
            "nbconvert_exporter": "python",
            "file_extension": ".py"
        },
        "kernelspec": {
            "name": "python3",
            "display_name": "Python 3.8.5 64-bit ('base': conda)"
        },
        "interpreter": {
            "hash": "d3c64416b97ce85b91da2284c8fb36e42e635773e0f2e50fea2861b1354a7934"
        }
    },
    "nbformat": 4,
    "nbformat_minor": 2
}